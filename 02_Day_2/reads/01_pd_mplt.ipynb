{
 "cells": [
  {
   "cell_type": "markdown",
   "metadata": {},
   "source": [
    "# Basic analysis and plotting of geodata with Python\n",
    "In this hands-on lesson, we are going to use this notebook as a guide to explore, analyze and plot data from the Airports dataset from Natural Earth. For each step in this process, we are going to write code together to acheive some goals: \n",
    "\n",
    "1. Read and explore the Airports dataset\n",
    "2. Group airports by country and report the top 10 countries with the most airports\n",
    "3. Input a 2-digit country code and return a list of airports in it\n",
    "4. Answer the question, \"How many countries have only one airport?\"\n",
    "5. Report the proportion of airports in the Southern vs. Northern hemisphere\n",
    "6. Find the furthest south and north airports by latitude\n",
    "7. Create a custom \"hemisphere\" column based on conditional statement\n",
    "8. Plot all airports and per hemisphere"
   ]
  },
  {
   "cell_type": "markdown",
   "metadata": {},
   "source": [
    "## Step 1: Read and explore the Airports dataset\n",
    "Our first step is to import libraries we'll need to read in and explore the airports dataset. Hit shift+Enter to run the cell below and import the libraries."
   ]
  },
  {
   "cell_type": "code",
   "execution_count": 1,
   "metadata": {},
   "outputs": [],
   "source": [
    "import pandas as pd\n",
    "import matplotlib.pyplot as plt\n",
    "import seaborn as sns\n",
    "import numpy as np\n",
    "import matplotlib.colors"
   ]
  },
  {
   "cell_type": "markdown",
   "metadata": {},
   "source": [
    "Next, let's read in the airports_edit.csv file and store it as a DataFrame called \"df\". Pandas has a built-in function for reading in csv files called, read_csv(). Fill in the blanks to read in and store the dataset as df."
   ]
  },
  {
   "cell_type": "code",
   "execution_count": 2,
   "metadata": {},
   "outputs": [],
   "source": [
    "df = pd.read_csv(\"airports_edit.csv\")"
   ]
  },
  {
   "cell_type": "markdown",
   "metadata": {},
   "source": [
    "There are several tools to explore the dataset with pandas, like .head(), .shape() and .info() which can all be written either in combination with print statements or on their own, attached to the df DataFrame we just created to give us some quick information about its size, attributes and contents. Run the df.head() cell below, then try writing commands for .shape() and .info(). Hint: with these two, you will need a print statement."
   ]
  },
  {
   "cell_type": "code",
   "execution_count": 3,
   "metadata": {},
   "outputs": [
    {
     "name": "stdout",
     "output_type": "stream",
     "text": [
      "(835, 5)\n",
      "<class 'pandas.core.frame.DataFrame'>\n",
      "RangeIndex: 835 entries, 0 to 834\n",
      "Data columns (total 5 columns):\n",
      " #   Column     Non-Null Count  Dtype  \n",
      "---  ------     --------------  -----  \n",
      " 0   name       835 non-null    object \n",
      " 1   latitude   835 non-null    float64\n",
      " 2   longitude  835 non-null    float64\n",
      " 3   iata_code  835 non-null    object \n",
      " 4   country    834 non-null    object \n",
      "dtypes: float64(2), object(3)\n",
      "memory usage: 32.7+ KB\n",
      "None\n"
     ]
    }
   ],
   "source": [
    "df.head()\n",
    "print(df.shape)\n",
    "print(df.info())"
   ]
  },
  {
   "cell_type": "markdown",
   "metadata": {},
   "source": [
    "## Step 2: Group airports by country and report the top 10 countries with the most airports\n",
    "The .value_counts() function can be used to count the number of airports per country. The groupby function can be used to group data by country and count the number of unique name values of airports associated with each country. \n",
    "\n",
    "Since you can plot data directly from your DataFrame using the plot() method in MatPlotLib, we can store the groupby object. Using the .describe() method, show some statistics about the airports after they are divided by country. For example, what is the mean number of airports per country? What is the most? What is the least?\n",
    "\n",
    "Start by adding the value_counts() function to the country column from df in the cell below. Run shift+Enter and see what happens. Then move on to try creating a new groupby object that sorts countries by number of airports in the order of most to least."
   ]
  },
  {
   "cell_type": "code",
   "execution_count": 4,
   "metadata": {},
   "outputs": [
    {
     "data": {
      "text/plain": [
       "US    132\n",
       "IN     51\n",
       "CA     45\n",
       "MX     39\n",
       "CN     38\n",
       "     ... \n",
       "LR      1\n",
       "PF      1\n",
       "HR      1\n",
       "CR      1\n",
       "TG      1\n",
       "Name: country, Length: 188, dtype: int64"
      ]
     },
     "execution_count": 4,
     "metadata": {},
     "output_type": "execute_result"
    }
   ],
   "source": [
    "df['country'].value_counts()\n",
    "# The US has the most airports, followed by India, Canada and Mexico\n",
    "# this can also be achieved after saving the groupby object by print(by_country)"
   ]
  },
  {
   "cell_type": "code",
   "execution_count": 6,
   "metadata": {},
   "outputs": [
    {
     "data": {
      "text/plain": [
       "count    188.000000\n",
       "mean       4.430851\n",
       "std       11.610916\n",
       "min        1.000000\n",
       "25%        1.000000\n",
       "50%        1.000000\n",
       "75%        3.000000\n",
       "max      131.000000\n",
       "Name: name, dtype: float64"
      ]
     },
     "execution_count": 6,
     "metadata": {},
     "output_type": "execute_result"
    }
   ],
   "source": [
    "groupby_country = df.groupby('country')['name'].nunique().sort_values(ascending = False)\n",
    "groupby_country.describe()"
   ]
  },
  {
   "cell_type": "markdown",
   "metadata": {},
   "source": [
    "Create a bar plot of airports by country using Matplotlib. Since there are a lot of countries on earth and it makes it hard to read the data, restrict your report to the top 10 by specifing rows 0:9."
   ]
  },
  {
   "cell_type": "code",
   "execution_count": 7,
   "metadata": {},
   "outputs": [
    {
     "data": {
      "image/png": "[encoded data removed]",
      "text/plain": [
       "<Figure size 1440x360 with 1 Axes>"
      ]
     },
     "metadata": {
      "needs_background": "light"
     },
     "output_type": "display_data"
    }
   ],
   "source": [
    "# create bar plot here\n",
    "fig, ax = plt.subplots(figsize=(20, 5))\n",
    "groupby_country.iloc[0:9].plot(kind='bar')\n",
    "plt.xticks(rotation=0)\n",
    "plt.ylabel(\"No. of Airports\")\n",
    "plt.xlabel(\" \")\n",
    "plt.show()"
   ]
  },
  {
   "cell_type": "markdown",
   "metadata": {},
   "source": [
    "## Step 3: Input a 2-digit country code and return a list of airports in it\n",
    "There are many ways to query a DataFrame. Use the .loc method to find and show just those airports that are in the Netherlands (country code = \"NL\"). Try it with other countries too - this statement should be easily modifiable to call any country on earth and see the list of airports it has."
   ]
  },
  {
   "cell_type": "code",
   "execution_count": 8,
   "metadata": {},
   "outputs": [
    {
     "data": {
      "text/html": [
       "<div>\n",
       "<style scoped>\n",
       "    .dataframe tbody tr th:only-of-type {\n",
       "        vertical-align: middle;\n",
       "    }\n",
       "\n",
       "    .dataframe tbody tr th {\n",
       "        vertical-align: top;\n",
       "    }\n",
       "\n",
       "    .dataframe thead th {\n",
       "        text-align: right;\n",
       "    }\n",
       "</style>\n",
       "<table border=\"1\" class=\"dataframe\">\n",
       "  <thead>\n",
       "    <tr style=\"text-align: right;\">\n",
       "      <th></th>\n",
       "      <th>name</th>\n",
       "      <th>latitude</th>\n",
       "      <th>longitude</th>\n",
       "      <th>iata_code</th>\n",
       "      <th>country</th>\n",
       "    </tr>\n",
       "  </thead>\n",
       "  <tbody>\n",
       "    <tr>\n",
       "      <th>35</th>\n",
       "      <td>Rotterdam The Hague</td>\n",
       "      <td>51.95</td>\n",
       "      <td>4.43</td>\n",
       "      <td>RTM</td>\n",
       "      <td>NL</td>\n",
       "    </tr>\n",
       "    <tr>\n",
       "      <th>777</th>\n",
       "      <td>Schiphol</td>\n",
       "      <td>52.31</td>\n",
       "      <td>4.76</td>\n",
       "      <td>AMS</td>\n",
       "      <td>NL</td>\n",
       "    </tr>\n",
       "  </tbody>\n",
       "</table>\n",
       "</div>"
      ],
      "text/plain": [
       "                    name  latitude  longitude iata_code country\n",
       "35   Rotterdam The Hague     51.95       4.43       RTM      NL\n",
       "777             Schiphol     52.31       4.76       AMS      NL"
      ]
     },
     "execution_count": 8,
     "metadata": {},
     "output_type": "execute_result"
    }
   ],
   "source": [
    "df.loc[df[\"country\"] == \"NL\"]"
   ]
  },
  {
   "cell_type": "markdown",
   "metadata": {},
   "source": [
    "## Step 4: Answer the question, \"How many countries have only one airport?\"\n",
    "Create a new dataframe where airports are grouped by country and use the .loc method to request just the rows where counts is equal to 1. Write a print statement that reports how many countries have only one airport. There is some code to get you started..."
   ]
  },
  {
   "cell_type": "code",
   "execution_count": 9,
   "metadata": {},
   "outputs": [
    {
     "name": "stdout",
     "output_type": "stream",
     "text": [
      "95 countries have only one airport.\n"
     ]
    }
   ],
   "source": [
    "ap_per_country = df.groupby(['country']).size().reset_index(name='counts').sort_values(by = 'counts' ,ascending = False)\n",
    "one_ap = ap_per_country.loc[ap_per_country['counts'] == 1].sort_values(by='country',ascending = True)\n",
    "\n",
    "print(len(one_ap),\"countries have only one airport.\")"
   ]
  },
  {
   "cell_type": "markdown",
   "metadata": {},
   "source": [
    "## Step 5: Report the proportion of airports in the Southern vs. Northern hemisphere\n",
    "We can divide the airports dataset by latitude to see the proportion of airports that are located in the two hemispheres of the world. Southern locations are those with a negative latitude, and northern locations are those with a positive latitude. Then, we can store the number of airports in each sub-dataset using the len() function, and create a quick calculation of percentage to include in a print statement that reports the approximate percentage of airports in each hemisphere, respectively. \n",
    "\n",
    "The southern hemisphere dataset is created already, create the northern hemisphere."
   ]
  },
  {
   "cell_type": "code",
   "execution_count": null,
   "metadata": {},
   "outputs": [],
   "source": [
    "sh_df = df[df['latitude'] < 0]\n",
    "sh_df.head()\n",
    "\n",
    "nh_df = df[df['latitude'] > 0]\n",
    "nh_df.head()"
   ]
  },
  {
   "cell_type": "code",
   "execution_count": null,
   "metadata": {},
   "outputs": [],
   "source": [
    "sh_airports = len(sh_df)\n",
    "nh_airports = len(nh_df)\n",
    "total_airports = len(df)\n",
    "\n",
    "print(\"Approximately\",(int((sh_airports/total_airports)*100)),\"percent of the world's airports are located in the Southern hemisphere.\")\n",
    "print(\"Approximately\",(int((nh_airports/total_airports)*100)),\"percent of the world's airports are located in the Northern hemisphere.\")"
   ]
  },
  {
   "cell_type": "markdown",
   "metadata": {},
   "source": [
    "## Step 6: Find the furthest south and north airports by latitude"
   ]
  },
  {
   "cell_type": "code",
   "execution_count": 10,
   "metadata": {},
   "outputs": [
    {
     "data": {
      "text/html": [
       "<div>\n",
       "<style scoped>\n",
       "    .dataframe tbody tr th:only-of-type {\n",
       "        vertical-align: middle;\n",
       "    }\n",
       "\n",
       "    .dataframe tbody tr th {\n",
       "        vertical-align: top;\n",
       "    }\n",
       "\n",
       "    .dataframe thead th {\n",
       "        text-align: right;\n",
       "    }\n",
       "</style>\n",
       "<table border=\"1\" class=\"dataframe\">\n",
       "  <thead>\n",
       "    <tr style=\"text-align: right;\">\n",
       "      <th></th>\n",
       "      <th>name</th>\n",
       "      <th>latitude</th>\n",
       "      <th>longitude</th>\n",
       "      <th>iata_code</th>\n",
       "      <th>country</th>\n",
       "    </tr>\n",
       "  </thead>\n",
       "  <tbody>\n",
       "    <tr>\n",
       "      <th>336</th>\n",
       "      <td>Hermes Quijada Int'l</td>\n",
       "      <td>-53.78</td>\n",
       "      <td>-67.75</td>\n",
       "      <td>RGA</td>\n",
       "      <td>AR</td>\n",
       "    </tr>\n",
       "    <tr>\n",
       "      <th>683</th>\n",
       "      <td>Carlos Ibáñez de Campo Int'l</td>\n",
       "      <td>-53.01</td>\n",
       "      <td>-70.84</td>\n",
       "      <td>PUQ</td>\n",
       "      <td>CL</td>\n",
       "    </tr>\n",
       "    <tr>\n",
       "      <th>337</th>\n",
       "      <td>Piloto Civil Norberto Fernandez Int'l</td>\n",
       "      <td>-51.61</td>\n",
       "      <td>-69.31</td>\n",
       "      <td>RGL</td>\n",
       "      <td>AR</td>\n",
       "    </tr>\n",
       "    <tr>\n",
       "      <th>373</th>\n",
       "      <td>Com. Armando Tola Int'l</td>\n",
       "      <td>-50.28</td>\n",
       "      <td>-72.05</td>\n",
       "      <td>ING</td>\n",
       "      <td>AR</td>\n",
       "    </tr>\n",
       "    <tr>\n",
       "      <th>290</th>\n",
       "      <td>Dunedin Int'l</td>\n",
       "      <td>-45.92</td>\n",
       "      <td>170.20</td>\n",
       "      <td>DUD</td>\n",
       "      <td>NZ</td>\n",
       "    </tr>\n",
       "  </tbody>\n",
       "</table>\n",
       "</div>"
      ],
      "text/plain": [
       "                                      name  latitude  longitude iata_code  \\\n",
       "336                   Hermes Quijada Int'l    -53.78     -67.75       RGA   \n",
       "683           Carlos Ibáñez de Campo Int'l    -53.01     -70.84       PUQ   \n",
       "337  Piloto Civil Norberto Fernandez Int'l    -51.61     -69.31       RGL   \n",
       "373                Com. Armando Tola Int'l    -50.28     -72.05       ING   \n",
       "290                          Dunedin Int'l    -45.92     170.20       DUD   \n",
       "\n",
       "    country  \n",
       "336      AR  \n",
       "683      CL  \n",
       "337      AR  \n",
       "373      AR  \n",
       "290      NZ  "
      ]
     },
     "execution_count": 10,
     "metadata": {},
     "output_type": "execute_result"
    }
   ],
   "source": [
    "df.sort_values(by='latitude', ascending=True).head()\n",
    "#See the furthest south airport is Hermes Quijada in Argentina"
   ]
  },
  {
   "cell_type": "code",
   "execution_count": 11,
   "metadata": {},
   "outputs": [
    {
     "data": {
      "text/html": [
       "<div>\n",
       "<style scoped>\n",
       "    .dataframe tbody tr th:only-of-type {\n",
       "        vertical-align: middle;\n",
       "    }\n",
       "\n",
       "    .dataframe tbody tr th {\n",
       "        vertical-align: top;\n",
       "    }\n",
       "\n",
       "    .dataframe thead th {\n",
       "        text-align: right;\n",
       "    }\n",
       "</style>\n",
       "<table border=\"1\" class=\"dataframe\">\n",
       "  <thead>\n",
       "    <tr style=\"text-align: right;\">\n",
       "      <th></th>\n",
       "      <th>name</th>\n",
       "      <th>latitude</th>\n",
       "      <th>longitude</th>\n",
       "      <th>iata_code</th>\n",
       "      <th>country</th>\n",
       "    </tr>\n",
       "  </thead>\n",
       "  <tbody>\n",
       "    <tr>\n",
       "      <th>225</th>\n",
       "      <td>Severomorsk-3 Murmansk N.E.</td>\n",
       "      <td>69.02</td>\n",
       "      <td>33.29</td>\n",
       "      <td>NULL</td>\n",
       "      <td>RU</td>\n",
       "    </tr>\n",
       "    <tr>\n",
       "      <th>239</th>\n",
       "      <td>Kirkenes Hoybuktmoen</td>\n",
       "      <td>69.72</td>\n",
       "      <td>29.89</td>\n",
       "      <td>KKN</td>\n",
       "      <td>NO</td>\n",
       "    </tr>\n",
       "    <tr>\n",
       "      <th>176</th>\n",
       "      <td>Deadhorse</td>\n",
       "      <td>70.20</td>\n",
       "      <td>-148.46</td>\n",
       "      <td>SCC</td>\n",
       "      <td>US</td>\n",
       "    </tr>\n",
       "    <tr>\n",
       "      <th>607</th>\n",
       "      <td>Wiley Post Will Rogers Mem.</td>\n",
       "      <td>71.29</td>\n",
       "      <td>-156.77</td>\n",
       "      <td>BRW</td>\n",
       "      <td>US</td>\n",
       "    </tr>\n",
       "    <tr>\n",
       "      <th>206</th>\n",
       "      <td>Resolute Bay</td>\n",
       "      <td>74.72</td>\n",
       "      <td>-94.97</td>\n",
       "      <td>YRB</td>\n",
       "      <td>CA</td>\n",
       "    </tr>\n",
       "  </tbody>\n",
       "</table>\n",
       "</div>"
      ],
      "text/plain": [
       "                            name  latitude  longitude iata_code country\n",
       "225  Severomorsk-3 Murmansk N.E.     69.02      33.29      NULL      RU\n",
       "239         Kirkenes Hoybuktmoen     69.72      29.89       KKN      NO\n",
       "176                    Deadhorse     70.20    -148.46       SCC      US\n",
       "607  Wiley Post Will Rogers Mem.     71.29    -156.77       BRW      US\n",
       "206                 Resolute Bay     74.72     -94.97       YRB      CA"
      ]
     },
     "execution_count": 11,
     "metadata": {},
     "output_type": "execute_result"
    }
   ],
   "source": [
    "df.sort_values(by='latitude', ascending=True).tail()\n",
    "#See the furthest north airport is Resolute Bay in Canada"
   ]
  },
  {
   "cell_type": "markdown",
   "metadata": {},
   "source": [
    "## Step 7: Create a custom column \"hemisphere\" based on a conditional statement\n",
    "Create a new column called hemisphere in the df DataFrame. If latitude is less than 0 it should assign the label \"southern\" and if greater than 0 it should assign \"northern\".\n",
    "\n",
    "To accomplish this, use numpy’s built-in where() function. This function takes three arguments in sequence: the condition we’re testing for, the value to assign to our new column if that condition is true, and the value to assign if it is false.\n",
    "\n",
    "Create a barplot showing the number of airports per hemisphere."
   ]
  },
  {
   "cell_type": "code",
   "execution_count": 12,
   "metadata": {},
   "outputs": [
    {
     "data": {
      "text/html": [
       "<div>\n",
       "<style scoped>\n",
       "    .dataframe tbody tr th:only-of-type {\n",
       "        vertical-align: middle;\n",
       "    }\n",
       "\n",
       "    .dataframe tbody tr th {\n",
       "        vertical-align: top;\n",
       "    }\n",
       "\n",
       "    .dataframe thead th {\n",
       "        text-align: right;\n",
       "    }\n",
       "</style>\n",
       "<table border=\"1\" class=\"dataframe\">\n",
       "  <thead>\n",
       "    <tr style=\"text-align: right;\">\n",
       "      <th></th>\n",
       "      <th>name</th>\n",
       "      <th>latitude</th>\n",
       "      <th>longitude</th>\n",
       "      <th>iata_code</th>\n",
       "      <th>country</th>\n",
       "      <th>hemisphere</th>\n",
       "    </tr>\n",
       "  </thead>\n",
       "  <tbody>\n",
       "    <tr>\n",
       "      <th>0</th>\n",
       "      <td>Sahnewal</td>\n",
       "      <td>30.85</td>\n",
       "      <td>75.96</td>\n",
       "      <td>LUH</td>\n",
       "      <td>IN</td>\n",
       "      <td>northern</td>\n",
       "    </tr>\n",
       "    <tr>\n",
       "      <th>1</th>\n",
       "      <td>Solapur</td>\n",
       "      <td>17.63</td>\n",
       "      <td>75.93</td>\n",
       "      <td>SSE</td>\n",
       "      <td>IN</td>\n",
       "      <td>northern</td>\n",
       "    </tr>\n",
       "    <tr>\n",
       "      <th>2</th>\n",
       "      <td>Birsa Munda</td>\n",
       "      <td>23.32</td>\n",
       "      <td>85.32</td>\n",
       "      <td>IXR</td>\n",
       "      <td>IN</td>\n",
       "      <td>northern</td>\n",
       "    </tr>\n",
       "    <tr>\n",
       "      <th>3</th>\n",
       "      <td>Ahwaz</td>\n",
       "      <td>31.34</td>\n",
       "      <td>48.75</td>\n",
       "      <td>AWZ</td>\n",
       "      <td>IR</td>\n",
       "      <td>northern</td>\n",
       "    </tr>\n",
       "    <tr>\n",
       "      <th>4</th>\n",
       "      <td>Gwalior</td>\n",
       "      <td>26.29</td>\n",
       "      <td>78.22</td>\n",
       "      <td>GWL</td>\n",
       "      <td>IN</td>\n",
       "      <td>northern</td>\n",
       "    </tr>\n",
       "  </tbody>\n",
       "</table>\n",
       "</div>"
      ],
      "text/plain": [
       "          name  latitude  longitude iata_code country hemisphere\n",
       "0     Sahnewal     30.85      75.96       LUH      IN   northern\n",
       "1      Solapur     17.63      75.93       SSE      IN   northern\n",
       "2  Birsa Munda     23.32      85.32       IXR      IN   northern\n",
       "3        Ahwaz     31.34      48.75       AWZ      IR   northern\n",
       "4      Gwalior     26.29      78.22       GWL      IN   northern"
      ]
     },
     "execution_count": 12,
     "metadata": {},
     "output_type": "execute_result"
    }
   ],
   "source": [
    "df['hemisphere'] = np.where(df['latitude'] < 0, 'southern', 'northern')\n",
    "df.head()"
   ]
  },
  {
   "cell_type": "code",
   "execution_count": 14,
   "metadata": {},
   "outputs": [
    {
     "data": {
      "image/png": "[encoded data removed]",
      "text/plain": [
       "<Figure size 720x576 with 1 Axes>"
      ]
     },
     "metadata": {
      "needs_background": "light"
     },
     "output_type": "display_data"
    }
   ],
   "source": [
    "# create barplot here\n",
    "fig, ax = plt.subplots(figsize=(10, 8))\n",
    "df.groupby('hemisphere')['name'].nunique().sort_values(ascending = False).plot(kind='bar')\n",
    "plt.xticks(rotation=0)\n",
    "plt.show()"
   ]
  },
  {
   "cell_type": "markdown",
   "metadata": {},
   "source": [
    "## Step 8: Plot all airports and per hemisphere\n",
    "Using longitude as the x axis and latitude as the y axis, we can plot the airports in their approximate geographic location. Make a scatterplot from the df dataframe and use plt.show() to display it."
   ]
  },
  {
   "cell_type": "code",
   "execution_count": null,
   "metadata": {},
   "outputs": [],
   "source": [
    "df.plot(kind=\"scatter\", x=\"longitude\", y=\"latitude\", alpha=0.4, figsize=(1,7))\n",
    "plt.show()"
   ]
  },
  {
   "cell_type": "markdown",
   "metadata": {},
   "source": [
    "Make a scatterplot from sh_df Dataframe that plots just the airports in the southern hemisphere. Add the ylim() specification to make sure you plot the whole world and it doesn't get distorted. You can also try it with the northern hemisphere."
   ]
  },
  {
   "cell_type": "code",
   "execution_count": null,
   "metadata": {},
   "outputs": [],
   "source": [
    "sh_df.plot(kind=\"scatter\", x=\"longitude\", y=\"latitude\", alpha=0.4, figsize=(12,7))\n",
    "plt.ylim(-60, 80)\n",
    "plt.show()"
   ]
  },
  {
   "cell_type": "markdown",
   "metadata": {},
   "source": [
    "Add some color to the world by mapping the color of the points on the scatterplot to their latitude. "
   ]
  },
  {
   "cell_type": "code",
   "execution_count": null,
   "metadata": {},
   "outputs": [],
   "source": [
    "df.plot(kind=\"scatter\", x=\"longitude\", y=\"latitude\",\n",
    "    c=\"latitude\", cmap=plt.get_cmap(\"jet\"),\n",
    "    colorbar=True, alpha=0.4, figsize=(15,7),\n",
    ")\n",
    "plt.legend()\n",
    "plt.show()"
   ]
  },
  {
   "cell_type": "markdown",
   "metadata": {},
   "source": [
    "## That's it! Nice job :)\n",
    "Keep going and learning more with pandas, numpy and matplotlib! "
   ]
  },
  {
   "cell_type": "code",
   "execution_count": null,
   "metadata": {},
   "outputs": [],
   "source": []
  }
 ],
 "metadata": {
  "kernelspec": {
   "display_name": "Python 3",
   "language": "python",
   "name": "python3"
  },
  "language_info": {
   "codemirror_mode": {
    "name": "ipython",
    "version": 3
   },
   "file_extension": ".py",
   "mimetype": "text/x-python",
   "name": "python",
   "nbconvert_exporter": "python",
   "pygments_lexer": "ipython3",
   "version": "3.8.3"
  }
 },
 "nbformat": 4,
 "nbformat_minor": 4
}
