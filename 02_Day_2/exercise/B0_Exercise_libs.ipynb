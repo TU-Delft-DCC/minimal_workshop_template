{
 "cells": [
  {
   "cell_type": "markdown",
   "metadata": {},
   "source": [
    "# Working with libraries\n",
    "##3 Most of the power of a programming language is in its libraries.\n",
    "\n",
    "*   A *library* is a collection of files (called *modules*) that contains\n",
    "    functions for use by other programs.\n",
    "    *   May also contain data values (e.g., numerical constants) and other things.\n",
    "    *   Library's contents are supposed to be related, but there's no way to enforce that.\n",
    "*   The Python [standard library][stdlib] is an extensive suite of modules that comes\n",
    "    with Python itself.\n",
    "*   Many additional libraries are available from [PyPI][pypi] (the Python Package Index).\n",
    "*   We will see later how to write new libraries.\n",
    "\n",
    "```{Note}\n",
    "## Most of the power of a programming language is in its libraries.\n",
    "\n",
    "*   A *library* is a collection of files (called *modules*) that contains\n",
    "    functions for use by other programs.\n",
    "    *   May also contain data values (e.g., numerical constants) and other things.\n",
    "    *   Library's contents are supposed to be related, but there's no way to enforce that.\n",
    "*   The Python [standard library][stdlib] is an extensive suite of modules that comes\n",
    "    with Python itself.\n",
    "*   Many additional libraries are available from [PyPI][pypi] (the Python Package Index).\n",
    "*   We will see later how to write new libraries.\n",
    "```"
   ]
  },
  {
   "cell_type": "code",
   "execution_count": 4,
   "metadata": {},
   "outputs": [
    {
     "name": "stdout",
     "output_type": "stream",
     "text": [
      "pi is 3.141592653589793\n",
      "cos(pi) is -1.0\n"
     ]
    }
   ],
   "source": [
    "import math\n",
    "\n",
    "print('pi is', math.pi)\n",
    "print('cos(pi) is', math.cos(math.pi))"
   ]
  },
  {
   "cell_type": "markdown",
   "metadata": {},
   "source": [
    "*   Have to refer to each item with the module's name.\n",
    "    *   `math.cos(pi)` won't work: the reference to `pi`\n",
    "        doesn't somehow \"inherit\" the function's reference to `math`.\n",
    "        \n",
    "## Use `help` to learn about the contents of a library module.\n",
    "\n",
    "*   Works just like help for a function."
   ]
  },
  {
   "cell_type": "code",
   "execution_count": null,
   "metadata": {},
   "outputs": [],
   "source": [
    "help(math)"
   ]
  },
  {
   "cell_type": "markdown",
   "metadata": {},
   "source": [
    "## Import specific items from a library module to shorten programs.\n",
    "\n",
    "*   Use `from ... import ...` to load only specific items from a library module.\n",
    "*   Then refer to them directly without library name as prefix."
   ]
  },
  {
   "cell_type": "code",
   "execution_count": 6,
   "metadata": {},
   "outputs": [
    {
     "name": "stdout",
     "output_type": "stream",
     "text": [
      "cos(pi) is -1.0\n"
     ]
    }
   ],
   "source": [
    "from math import cos, pi\n",
    "\n",
    "print('cos(pi) is', cos(pi))"
   ]
  },
  {
   "cell_type": "markdown",
   "metadata": {},
   "source": [
    "## Create an alias for a library module when importing it to shorten programs.\n",
    "\n",
    "*   Use `import ... as ...` to give a library a short *alias* while importing it.\n",
    "*   Then refer to items in the library using that shortened name."
   ]
  },
  {
   "cell_type": "code",
   "execution_count": 7,
   "metadata": {},
   "outputs": [
    {
     "name": "stdout",
     "output_type": "stream",
     "text": [
      "cos(pi) is -1.0\n"
     ]
    }
   ],
   "source": [
    "import math as m\n",
    "\n",
    "print('cos(pi) is', m.cos(m.pi))"
   ]
  },
  {
   "cell_type": "markdown",
   "metadata": {},
   "source": [
    "*   Commonly used for libraries that are frequently used or have long names.\n",
    "    *   E.g., the `matplotlib` plotting library is often aliased as `mpl`.\n",
    "*   But can make programs harder to understand,\n",
    "    since readers must learn your program's aliases."
   ]
  },
  {
   "cell_type": "markdown",
   "metadata": {},
   "source": [
    "```{admonition} Exercise: Exploring the Math Module\n",
    "1. What function from the `math` module can you use to calculate a square root\n",
    "    *without* using `sqrt`?\n",
    "2. Since the library contains this function, why does `sqrt` exist?\n",
    "\n",
    "```\n",
    "\n",
    ":::{admonition} See Solution\n",
    ":class: tip, dropdown\n",
    "1. Using `help(math)` we see that we've got `pow(x,y)` in addition to `sqrt(x)`, so we could use `pow(x, 0.5)` to find a square root.\n",
    "2. The `sqrt(x)` function is arguably more readable than `pow(x, 0.5)` when implementing equations. Readability is a cornerstone of good programming, so it makes sense to provide a special function for this specific common case.\n",
    "Also, the design of Python's `math` library has its origin in the C standard, which includes both `sqrt(x)` and `pow(x,y)`, so a little bit of the history of programming is showing in Python's function names.\n",
    ":::\n"
   ]
  },
  {
   "cell_type": "markdown",
   "metadata": {},
   "source": [
    "```{admonition} Exercise: Locating the right Module\n",
    "You want to select a random character from a string:\n",
    "\n",
    " ~~~\n",
    " bases = 'ACTTGCTTGAC'\n",
    " ~~~~\n",
    "\n",
    "1. Which [standard library][stdlib] module could help you?\n",
    "2. Which function would you select from that module? Are there alternatives?\n",
    "3. Try to write a program that uses the function.\n",
    "\n",
    "```\n",
    ":::{admonition} See Solution\n",
    ":class: tip, dropdown\n",
    "The [random module][randommod] seems like it could help you.\n",
    "\n",
    "The string has 11 characters, each having a positional index from 0 to 10.\n",
    "You could use `random.randrange` function (or the alias `random.randint` if you find that easier to remember) to get a random integer between 0 and 10, and then pick out the character at that position:\n",
    "\n",
    "~~~\n",
    "from random import randrange\n",
    "\n",
    "random_index = randrange(len(bases))\n",
    "print(bases[random_index])\n",
    "~~~\n",
    "\n",
    "~~~\n",
    "from random import randrange\n",
    "\n",
    "print(bases[randrange(len(bases))])\n",
    "~~~\n",
    "Perhaps you found the `random.sample` function? It allows for slightly less typing:\n",
    "~~~\n",
    "from random import sample\n",
    "print(sample(bases, 1)[0])\n",
    "~~~\n",
    "Note that this function returns a list of values. There's also other functions you could use, but with more convoluted\n",
    "code as a result.\n",
    ":::\n"
   ]
  }
 ],
 "metadata": {
  "kernelspec": {
   "display_name": "Python 3",
   "language": "python",
   "name": "python3"
  },
  "language_info": {
   "codemirror_mode": {
    "name": "ipython",
    "version": 3
   },
   "file_extension": ".py",
   "mimetype": "text/x-python",
   "name": "python",
   "nbconvert_exporter": "python",
   "pygments_lexer": "ipython3",
   "version": "3.8.3"
  }
 },
 "nbformat": 4,
 "nbformat_minor": 4
}
